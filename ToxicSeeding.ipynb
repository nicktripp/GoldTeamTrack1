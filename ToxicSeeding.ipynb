{
 "cells": [
  {
   "cell_type": "markdown",
   "metadata": {},
   "source": [
    "# Parsing Toxic Data\n",
    "We have a 2 GB file called basic_data_files.csv that has a rows with many columns that we need to break down into \n",
    "\n",
    "Each Basic Data File contains 108 data fields, which generally represent these categories:\n",
    "* Facility Name, Address, Latitude & Longitude Coordinates, SIC or NAICS codes and Industry Sector Codes\n",
    "* Chemical Identification and Classification Information\n",
    "* On-site Release Quantities\n",
    "* Publicly Owned Treatment Works (POTW) Transfer Quantities\n",
    "* Off-site Transfer Quantities for Release/Disposal and Further Waste Management\n",
    "* Summary Pollution Prevention Quantities (Section 8 of the Form R)\n",
    "\n",
    "## Relations\n",
    "We have the following tables that supporting the following textual description. Companies manage Facilities. Facilities release chemicals. Facilities may release chemicals repeatedly. Facilities may release more than one chemical.\n",
    "\n",
    "* Company(name:string)\n",
    "* Facility(company:references, name:string, address:string, latitude:float, longitude:float, SIC_code:string, NAICS_code:string, industry_sector_code:string)\n",
    "* Chemical(name:string, clear_air_act_chemical:boolean, is_metal:boolean, metal_category:string)\n",
    "* Release(facility:references, chemical:references, date:datetime, method:string, quantity:integer, units:string)\n",
    "\n",
    "## Data Wrangling\n",
    "\n",
    "There are significantly more columns in the basic data files than are captured in these relations, yet this schema is still too complicated. Releases will be queried and compared by time of release as well as quantity. Our storage of quantity as an integer with a string unit is problematic for comparison. The assumption is that runtime computation will compute the comparisons unless we store everything in the same units.\n",
    "\n",
    "## Goals\n",
    "\n",
    "* Acquire all of the information for the tables as described\n",
    "* Convert all of the quantities to a single unit \n",
    "* Change the Release table according to the unit\n",
    "* Insert recrods into the MySQL for each table\n"
   ]
  },
  {
   "cell_type": "code",
   "execution_count": 45,
   "metadata": {},
   "outputs": [
    {
     "data": {
      "text/plain": [
       "{'ACUSHNET HOLDINGS CORP',\n",
       " 'CARGILL INC',\n",
       " 'GENERAL MOTORS LLC',\n",
       " 'HANNA STEEL CORP',\n",
       " 'KICE INDUSTRIES INC',\n",
       " 'THE CLOROX CO',\n",
       " 'US DEPARTMENT OF THE TREASURY'}"
      ]
     },
     "execution_count": 45,
     "metadata": {},
     "output_type": "execute_result"
    }
   ],
   "source": [
    "import pandas as pd\n",
    "\n",
    "files = pd.read_csv('basic_data_files.csv', chunksize=8192, nrows=10)\n",
    "\n",
    "companies = set()\n",
    "for df in files:\n",
    "    names = df['PARENT_COMPANY_NAME']\n",
    "    names.fillna(0,inplace=True)\n",
    "    for company in names:\n",
    "        companies.add(company)\n",
    "\n",
    "companies.remove(0)\n",
    "companies\n",
    "\n"
   ]
  },
  {
   "cell_type": "code",
   "execution_count": null,
   "metadata": {},
   "outputs": [],
   "source": []
  },
  {
   "cell_type": "code",
   "execution_count": null,
   "metadata": {
    "collapsed": true
   },
   "outputs": [],
   "source": []
  },
  {
   "cell_type": "code",
   "execution_count": null,
   "metadata": {
    "collapsed": true
   },
   "outputs": [],
   "source": []
  }
 ],
 "metadata": {
  "kernelspec": {
   "display_name": "Python 3",
   "language": "python",
   "name": "python3"
  },
  "language_info": {
   "codemirror_mode": {
    "name": "ipython",
    "version": 3
   },
   "file_extension": ".py",
   "mimetype": "text/x-python",
   "name": "python",
   "nbconvert_exporter": "python",
   "pygments_lexer": "ipython3",
   "version": "3.6.1"
  }
 },
 "nbformat": 4,
 "nbformat_minor": 2
}
