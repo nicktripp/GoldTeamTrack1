{
 "cells": [
  {
   "cell_type": "markdown",
   "metadata": {},
   "source": [
    "# Parsing Toxic Data\n",
    "We have a 2 GB file called basic_data_files.csv that has a rows with many columns that we need to break down into \n",
    "\n",
    "Each Basic Data File contains 108 data fields, which generally represent these categories:\n",
    "* Facility Name, Address, Latitude & Longitude Coordinates, SIC or NAICS codes and Industry Sector Codes\n",
    "* Chemical Identification and Classification Information\n",
    "* On-site Release Quantities\n",
    "* Publicly Owned Treatment Works (POTW) Transfer Quantities\n",
    "* Off-site Transfer Quantities for Release/Disposal and Further Waste Management\n",
    "* Summary Pollution Prevention Quantities (Section 8 of the Form R)\n",
    "\n",
    "## Relations\n",
    "We have the following tables that supporting the following textual description. Companies manage Facilities. Facilities release chemicals. Facilities may release chemicals repeatedly. Facilities may release more than one chemical.\n",
    "\n",
    "* Company(name:string)\n",
    "* Facility(company:references, name:string, address:string, latitude:float, longitude:float, SIC_code:string, NAICS_code:string, industry_sector_code:string)\n",
    "* Chemical(name:string, clear_air_act_chemical:boolean, is_metal:boolean, metal_category:string)\n",
    "* Release(facility:references, chemical:references, date:datetime, method:string, quantity:integer, units:string)\n",
    "\n",
    "## Data Wrangling\n",
    "\n",
    "There are significantly more columns in the basic data files than are captured in these relations, yet this schema is still too complicated. Releases will be queried and compared by time of release as well as quantity. Our storage of quantity as an integer with a string unit is problematic for comparison. The assumption is that runtime computation will compute the comparisons unless we store everything in the same units.\n",
    "\n",
    "## Goals\n",
    "\n",
    "* Acquire all of the information for the tables as described\n",
    "* Convert all of the quantities to a single unit \n",
    "* Change the Release table according to the unit\n",
    "* Insert recrods into the MySQL for each table\n"
   ]
  },
  {
   "cell_type": "code",
   "execution_count": 2,
   "metadata": {},
   "outputs": [
    {
     "data": {
      "text/plain": [
       "{'ACUSHNET HOLDINGS CORP',\n",
       " 'CARGILL INC',\n",
       " 'GENERAL MOTORS LLC',\n",
       " 'HANNA STEEL CORP',\n",
       " 'KICE INDUSTRIES INC',\n",
       " 'THE CLOROX CO',\n",
       " 'US DEPARTMENT OF THE TREASURY'}"
      ]
     },
     "execution_count": 2,
     "metadata": {},
     "output_type": "execute_result"
    }
   ],
   "source": [
    "import pandas as pd\n",
    "\n",
    "files = pd.read_csv('basic_data_files.csv', chunksize=8192, nrows=10)\n",
    "\n",
    "companies = set()\n",
    "for df in files:\n",
    "    names = df['PARENT_COMPANY_NAME']\n",
    "    names.fillna(0,inplace=True)\n",
    "    for company in names:\n",
    "        companies.add(company)\n",
    "\n",
    "companies.remove(0)\n",
    "companies\n",
    "\n"
   ]
  },
  {
   "cell_type": "code",
   "execution_count": 3,
   "metadata": {},
   "outputs": [
    {
     "name": "stdout",
     "output_type": "stream",
     "text": [
      "   YEAR  TRI_FACILITY_ID        FRS_ID  \\\n",
      "0  2016  46552DCTLT30350  110000399453   \n",
      "1  2016  01950NNSPC3MALC  110000310379   \n",
      "2  2016  44691CRGLL1203T  110006261712   \n",
      "3  2016  02745CSHNT215DU  110002059049   \n",
      "4  2016  30050CLRXC17LAK  110000355730   \n",
      "5  2016  78114WTCTN5877F  110031018182   \n",
      "6  2016  48211CDLLC2500E  110000406640   \n",
      "7  2016  35064HNNST3812C  110000366292   \n",
      "8  2016  20228BRFNG14THC  110017347879   \n",
      "9  2016  74631CFMCR102S2  110000455784   \n",
      "\n",
      "                                       FACILITY_NAME  \\\n",
      "0                                         EDCOAT LLC   \n",
      "1                              UNION SPECIALTIES INC   \n",
      "2                           CARGILL ANIMAL NUTRITION   \n",
      "3                         ACUSHNET CO BALL PLANT III   \n",
      "4                   CLOROX PRODUCTS MANUFACTURING CO   \n",
      "5                                    WATCO TANKS INC   \n",
      "6  GENERAL MOTORS GM VA  DETROIT-HAMTRAMCK ASSEMB...   \n",
      "7                                   HANNA STEEL CORP   \n",
      "8  US DEPARTMENT OF THE TREASURY-BUREAU OF ENGRAV...   \n",
      "9                                           CFM CORP   \n",
      "\n",
      "               STREET_ADDRESS          CITY                COUNTY  ST    ZIP  \\\n",
      "0             30350 EDISON RD  NEW CARLISLE             ST JOSEPH  IN  46552   \n",
      "1           3 MALCOLM HOYT DR   NEWBURYPORT                 ESSEX  MA   1950   \n",
      "2              1203 TIMKEN RD       WOOSTER                 WAYNE  OH  44691   \n",
      "3           215 DUCHAINE BLVD   NEW BEDFORD               BRISTOL  MA   2745   \n",
      "4           17 LAKE MIRROR RD   FOREST PARK               CLAYTON  GA  30297   \n",
      "5                 5877 FM 539   FLORESVILLE                WILSON  TX  78114   \n",
      "6  2500 E GENERAL MOTORS BLVD       DETROIT                 WAYNE  MI  48211   \n",
      "7           3812 COMMERCE AVE     FAIRFIELD             JEFFERSON  AL  35064   \n",
      "8              14TH & C ST SW    WASHINGTON  DISTRICT OF COLUMBIA  DC  20228   \n",
      "9               102 S 29TH ST     BLACKWELL                   KAY  OK  74631   \n",
      "\n",
      "   BIA_CODE      ...        8.5_RECYCLING_OFF-SITE  8.6_TREATMENT_ON-SITE  \\\n",
      "0       NaN      ...                             0                      0   \n",
      "1       NaN      ...                             0                      0   \n",
      "2       NaN      ...                             0                      0   \n",
      "3       NaN      ...                             0                      0   \n",
      "4       NaN      ...                             0                      0   \n",
      "5       NaN      ...                             0                      0   \n",
      "6       NaN      ...                             0                      0   \n",
      "7       NaN      ...                             0                   4208   \n",
      "8       NaN      ...                             0                      0   \n",
      "9       NaN      ...                             0                      0   \n",
      "\n",
      "   8.7_TREATMENT_OFF-SITE PROD._WASTE_(8.1_THRU_8.7)  8.8_ONE-TIME_RELEASE  \\\n",
      "0                       0                1170.315400                   NaN   \n",
      "1                       0                  18.000000                   NaN   \n",
      "2                       0                   0.000000                   0.0   \n",
      "3                     106                2297.000000                   NaN   \n",
      "4                     230                 260.000000                   0.0   \n",
      "5                       0                5488.000000                   NaN   \n",
      "6                       0                1081.000000                   NaN   \n",
      "7                       0               10017.000000                   NaN   \n",
      "8                       0                 658.588063                   NaN   \n",
      "9                       0                   0.000000                   NaN   \n",
      "\n",
      "  PROD_RATIO_OR_ACTIVITY  8.9_PRODUCTION_RATIO            PARENT_COMPANY_NAME  \\\n",
      "0             PRODUCTION                  0.99                            NaN   \n",
      "1             PRODUCTION                  0.98                            NaN   \n",
      "2                    NaN                  0.00                    CARGILL INC   \n",
      "3             PRODUCTION                  0.86         ACUSHNET HOLDINGS CORP   \n",
      "4             PRODUCTION                  1.02                  THE CLOROX CO   \n",
      "5             PRODUCTION                  0.41                            NaN   \n",
      "6             PRODUCTION                  1.53             GENERAL MOTORS LLC   \n",
      "7                    NaN                   NaN               HANNA STEEL CORP   \n",
      "8             PRODUCTION                  1.10  US DEPARTMENT OF THE TREASURY   \n",
      "9             PRODUCTION                  1.15            KICE INDUSTRIES INC   \n",
      "\n",
      "   PARENT_COMPANY_DB_NUMBER  Unnamed: 109  \n",
      "0                       NaN           NaN  \n",
      "1                       NaN           NaN  \n",
      "2                 6249189.0           NaN  \n",
      "3                       NaN           NaN  \n",
      "4                51039402.0           NaN  \n",
      "5                       NaN           NaN  \n",
      "6               831247536.0           NaN  \n",
      "7                       NaN           NaN  \n",
      "8                       NaN           NaN  \n",
      "9               117241433.0           NaN  \n",
      "\n",
      "[10 rows x 110 columns]\n"
     ]
    }
   ],
   "source": [
    "df_itr = pd.read_csv('basic_data_files.csv', chunksize=8192, nrows=10)\n",
    "\n",
    "for df in df_itr:\n",
    "    print(df)"
   ]
  },
  {
   "cell_type": "code",
   "execution_count": null,
   "metadata": {
    "collapsed": true
   },
   "outputs": [],
   "source": []
  },
  {
   "cell_type": "code",
   "execution_count": null,
   "metadata": {
    "collapsed": true
   },
   "outputs": [],
   "source": []
  }
 ],
 "metadata": {
  "kernelspec": {
   "display_name": "Python 3",
   "language": "python",
   "name": "python3"
  },
  "language_info": {
   "codemirror_mode": {
    "name": "ipython",
    "version": 3
   },
   "file_extension": ".py",
   "mimetype": "text/x-python",
   "name": "python",
   "nbconvert_exporter": "python",
   "pygments_lexer": "ipython3",
   "version": "3.6.1"
  }
 },
 "nbformat": 4,
 "nbformat_minor": 2
}
